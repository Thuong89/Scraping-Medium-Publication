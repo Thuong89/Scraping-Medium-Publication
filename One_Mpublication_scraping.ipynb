{
 "cells": [
  {
   "cell_type": "markdown",
   "metadata": {},
   "source": [
    "<div style='background-color:#193366;color:white;padding:20px;text-align:center;font-size:20px'> Web Scraping model for 1 publication on Medium </div>"
   ]
  },
  {
   "cell_type": "code",
   "execution_count": 1,
   "metadata": {
    "ExecuteTime": {
     "end_time": "2021-01-07T13:51:49.181189Z",
     "start_time": "2021-01-07T13:51:46.578923Z"
    }
   },
   "outputs": [],
   "source": [
    "import requests\n",
    "from bs4 import BeautifulSoup\n",
    "import pandas as pd\n",
    "import random\n",
    "from datetime import datetime"
   ]
  },
  {
   "cell_type": "code",
   "execution_count": 2,
   "metadata": {
    "ExecuteTime": {
     "end_time": "2021-01-07T13:51:49.192870Z",
     "start_time": "2021-01-07T13:51:49.185868Z"
    }
   },
   "outputs": [],
   "source": [
    "import numpy as np"
   ]
  },
  {
   "cell_type": "code",
   "execution_count": 4,
   "metadata": {
    "ExecuteTime": {
     "end_time": "2021-01-07T13:51:49.240875Z",
     "start_time": "2021-01-07T13:51:49.235868Z"
    }
   },
   "outputs": [],
   "source": [
    "#page/archive/year/month/day"
   ]
  },
  {
   "cell_type": "markdown",
   "metadata": {},
   "source": [
    "## Put url of publication"
   ]
  },
  {
   "cell_type": "code",
   "execution_count": 5,
   "metadata": {
    "ExecuteTime": {
     "end_time": "2021-01-07T13:51:49.256870Z",
     "start_time": "2021-01-07T13:51:49.249869Z"
    }
   },
   "outputs": [],
   "source": [
    "url='https://towardsdatascience.com/archive/{0}/{1:02d}/{2:02d}'"
   ]
  },
  {
   "cell_type": "markdown",
   "metadata": {},
   "source": [
    "## define function to convert day of year to datetime (apply to 2020)"
   ]
  },
  {
   "cell_type": "code",
   "execution_count": 6,
   "metadata": {
    "ExecuteTime": {
     "end_time": "2021-01-07T13:51:49.272870Z",
     "start_time": "2021-01-07T13:51:49.262868Z"
    }
   },
   "outputs": [],
   "source": [
    "def convert_day2(day_num): \n",
    "    str(day_num).rjust(3 + len(str(day_num)), '0') \n",
    "    year = \"2020\"\n",
    "    res = datetime.strptime(year + \"-\" + str(day_num), \"%Y-%j\")\n",
    "    return res\n"
   ]
  },
  {
   "cell_type": "code",
   "execution_count": 7,
   "metadata": {
    "ExecuteTime": {
     "end_time": "2021-01-07T13:51:49.290868Z",
     "start_time": "2021-01-07T13:51:49.279867Z"
    }
   },
   "outputs": [
    {
     "data": {
      "text/plain": [
       "datetime.datetime(2020, 2, 1, 0, 0)"
      ]
     },
     "execution_count": 7,
     "metadata": {},
     "output_type": "execute_result"
    }
   ],
   "source": [
    "convert_day2(32)"
   ]
  },
  {
   "cell_type": "markdown",
   "metadata": {},
   "source": [
    "## Specify time here"
   ]
  },
  {
   "cell_type": "code",
   "execution_count": 8,
   "metadata": {
    "ExecuteTime": {
     "end_time": "2021-01-07T13:51:49.318883Z",
     "start_time": "2021-01-07T13:51:49.300870Z"
    }
   },
   "outputs": [],
   "source": [
    "selected_days = [i for i in range(336,367)]"
   ]
  },
  {
   "cell_type": "markdown",
   "metadata": {},
   "source": [
    "## Scraping"
   ]
  },
  {
   "cell_type": "code",
   "execution_count": 9,
   "metadata": {
    "ExecuteTime": {
     "end_time": "2021-01-07T13:54:49.456839Z",
     "start_time": "2021-01-07T13:51:49.323870Z"
    }
   },
   "outputs": [],
   "source": [
    "data=[]\n",
    "for d in selected_days:\n",
    "    da=convert_day2(d)\n",
    "    req = requests.get(url.format(da.year, da.month, da.day), allow_redirects=True)\n",
    "    if not req.url.startswith(url.format(da.year, da.month, da.day)):\n",
    "        continue\n",
    "    \n",
    "    soup=BeautifulSoup(req.content,'lxml')\n",
    "    #author name and date\n",
    "    x1=soup.find_all('div',class_=\"postMetaInline postMetaInline-authorLockup ui-captionStrong u-flex1 u-noWrapWithEllipsis\")\n",
    "    author=[]\n",
    "    date=[]\n",
    "    for i1 in x1:\n",
    "        author.append(i1.find('a').string)\n",
    "        date.append(da)\n",
    "    #title\n",
    "    x3=soup.find_all('div',class_=\"section-inner sectionLayout--insetColumn\")\n",
    "    title=[]\n",
    "    for i3 in x3:\n",
    "        if i3.find('h3') is not None:\n",
    "            title.append(i3.find('h3').string)\n",
    "        else:\n",
    "            title.append(np.nan)\n",
    "    #min read\n",
    "    x2=soup.find_all('div',class_=\"ui-caption u-fontSize12 u-baseColor--textNormal u-textColorNormal js-postMetaInlineSupplemental\")\n",
    "    read_time=[]\n",
    "    for i2 in x2:\n",
    "        read_time.append(int(i2.find('span',class_='readingTime')['title'][:-9]))\n",
    "    #number of clap\n",
    "    x4=soup.find_all('span',class_=\"u-relative u-background js-actionMultirecommendCount u-marginLeft5\")\n",
    "    clap=[]\n",
    "    for i4 in x4:\n",
    "        if i4.find('button') is None:\n",
    "            clap.append(np.nan)\n",
    "        else:\n",
    "            clap.append(i4.find('button').string)\n",
    "            \n",
    "    data.append(pd.DataFrame({'Date':date,'Author':author,'Title':title,'Read time':read_time,'No of Clap':clap}))\n",
    "\n"
   ]
  },
  {
   "cell_type": "markdown",
   "metadata": {},
   "source": [
    "## Transform dataframe"
   ]
  },
  {
   "cell_type": "code",
   "execution_count": 10,
   "metadata": {
    "ExecuteTime": {
     "end_time": "2021-01-07T13:54:49.503857Z",
     "start_time": "2021-01-07T13:54:49.459526Z"
    }
   },
   "outputs": [],
   "source": [
    "DATA=pd.concat(data)"
   ]
  },
  {
   "cell_type": "markdown",
   "metadata": {},
   "source": [
    "## Save dataset file to local computer"
   ]
  },
  {
   "cell_type": "code",
   "execution_count": 11,
   "metadata": {
    "ExecuteTime": {
     "end_time": "2021-01-07T13:54:49.569699Z",
     "start_time": "2021-01-07T13:54:49.509490Z"
    }
   },
   "outputs": [],
   "source": [
    "DATA.to_csv('dataTDS_122020.csv',index=False)"
   ]
  }
 ],
 "metadata": {
  "kernelspec": {
   "display_name": "Python 3",
   "language": "python",
   "name": "python3"
  },
  "language_info": {
   "codemirror_mode": {
    "name": "ipython",
    "version": 3
   },
   "file_extension": ".py",
   "mimetype": "text/x-python",
   "name": "python",
   "nbconvert_exporter": "python",
   "pygments_lexer": "ipython3",
   "version": "3.8.3"
  },
  "latex_envs": {
   "LaTeX_envs_menu_present": true,
   "autoclose": false,
   "autocomplete": true,
   "bibliofile": "biblio.bib",
   "cite_by": "apalike",
   "current_citInitial": 1,
   "eqLabelWithNumbers": true,
   "eqNumInitial": 1,
   "hotkeys": {
    "equation": "Ctrl-E",
    "itemize": "Ctrl-I"
   },
   "labels_anchors": false,
   "latex_user_defs": false,
   "report_style_numbering": false,
   "user_envs_cfg": false
  },
  "toc": {
   "base_numbering": 1,
   "nav_menu": {},
   "number_sections": true,
   "sideBar": true,
   "skip_h1_title": false,
   "title_cell": "Table of Contents",
   "title_sidebar": "Contents",
   "toc_cell": false,
   "toc_position": {},
   "toc_section_display": true,
   "toc_window_display": false
  },
  "varInspector": {
   "cols": {
    "lenName": 16,
    "lenType": 16,
    "lenVar": 40
   },
   "kernels_config": {
    "python": {
     "delete_cmd_postfix": "",
     "delete_cmd_prefix": "del ",
     "library": "var_list.py",
     "varRefreshCmd": "print(var_dic_list())"
    },
    "r": {
     "delete_cmd_postfix": ") ",
     "delete_cmd_prefix": "rm(",
     "library": "var_list.r",
     "varRefreshCmd": "cat(var_dic_list()) "
    }
   },
   "types_to_exclude": [
    "module",
    "function",
    "builtin_function_or_method",
    "instance",
    "_Feature"
   ],
   "window_display": false
  }
 },
 "nbformat": 4,
 "nbformat_minor": 4
}
